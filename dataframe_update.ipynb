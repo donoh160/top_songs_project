{
 "cells": [
  {
   "cell_type": "code",
   "execution_count": null,
   "id": "5ebf18a4-ca7a-433a-91b7-0db224d4a44f",
   "metadata": {},
   "outputs": [],
   "source": [
    "import billboard\n",
    "import matplotlib.pyplot as plt\n",
    "import pandas as pd\n",
    "import numpy as np\n",
    "import requests\n",
    "import base64\n",
    "from requests import post, get\n",
    "import json\n",
    "import time\n",
    "from datetime import datetime, timedelta\n"
   ]
  },
  {
   "cell_type": "code",
   "execution_count": null,
   "id": "ca5f3576-ec67-49b9-8fb5-1e8fee1ad803",
   "metadata": {},
   "outputs": [],
   "source": [
    "# Load the CSV file created in Part 1 into a Pandas DataFrame\n",
    "data_df = pd.read_csv(\"data_df.csv\")\n",
    "\n",
    "# Display sample data\n",
    "data_df.head()"
   ]
  },
  {
   "cell_type": "code",
   "execution_count": null,
   "id": "fc02f17c-297a-4661-9088-f5374b59f1be",
   "metadata": {},
   "outputs": [],
   "source": [
    "data_df[\"Year\"] = \"\"\n",
    "data_df.head()"
   ]
  },
  {
   "cell_type": "code",
   "execution_count": null,
   "id": "9ef5898a-2474-4924-96d0-b1518496a4d5",
   "metadata": {},
   "outputs": [],
   "source": [
    "# Convert 'Year' column to numeric values, coercing errors to NaN\n",
    "data_df['Year'] = pd.to_numeric(data_df['Year'], errors='coerce')\n",
    "\n",
    "# Fill NaN values (if any) with 0 (or any other placeholder you want)\n",
    "data_df['Year'] = data_df['Year'].fillna(0)\n",
    "\n",
    "# Convert 'Year' back to integers after filling NaN\n",
    "data_df['Year'] = data_df['Year'].astype(int)\n",
    "\n",
    "# Add 2006 to the 'Year' column for the first 100 rows\n",
    "data_df.loc[:99, 'Year'] = 2006\n",
    "\n",
    "# Add 1 to the 'Year' for every subsequent block of 100 rows (e.g., 2007, 2008, etc.)\n",
    "for i in range(1, (len(data_df) // 100) + 1):\n",
    "    start_idx = i * 100\n",
    "    end_idx = (i + 1) * 100\n",
    "    data_df.loc[start_idx:end_idx - 1, 'Year'] = 2006 + i\n",
    "\n",
    "# Output the result\n",
    "print(data_df[['Song Name', 'Year']].head(110))  # Display first 110 rows to check"
   ]
  },
  {
   "cell_type": "code",
   "execution_count": null,
   "id": "4d229ebf-bbdb-40d3-a4b9-d04cbd8c9903",
   "metadata": {},
   "outputs": [],
   "source": [
    "data_df.head(1900)"
   ]
  },
  {
   "cell_type": "code",
   "execution_count": null,
   "id": "0a982e2a-6143-4c12-ab4f-4d7923d30136",
   "metadata": {},
   "outputs": [],
   "source": [
    "data_df.drop('Release Date', axis=1, inplace=True)\n",
    "data_df.head()"
   ]
  },
  {
   "cell_type": "code",
   "execution_count": null,
   "id": "4e25a40d-4a4e-47a8-84c5-889312c33dbe",
   "metadata": {},
   "outputs": [],
   "source": [
    "data_df['Rank'] = (data_df.index % 100) + 1\n",
    "data_df.head(101)"
   ]
  },
  {
   "cell_type": "code",
   "execution_count": null,
   "id": "962f215e-c574-4062-8cc7-9e907291f7b8",
   "metadata": {},
   "outputs": [],
   "source": [
    "data_df.rename(columns={'Song Name': 'Title'}, inplace=True)"
   ]
  },
  {
   "cell_type": "code",
   "execution_count": null,
   "id": "3cd32661-96ca-4300-b7a2-2c4cfe0a9ad2",
   "metadata": {},
   "outputs": [],
   "source": [
    "new_df = data_df[['Year', 'Rank', 'Title', 'Artist', 'Spotify ID', 'Genres', 'Duration', 'Popularity']]\n",
    "new_df.head(202)"
   ]
  },
  {
   "cell_type": "code",
   "execution_count": null,
   "id": "b4e675d7-6d87-4302-b8e1-8b476e4cc3b0",
   "metadata": {},
   "outputs": [],
   "source": [
    "# Split 'Artist' column into multiple columns\n",
    "artist_split = new_df['Artist'].str.split(', ', expand=True)\n",
    "\n",
    "# Rename new columns as 'feat1', 'feat2', etc.\n",
    "artist_split.columns = [f'feat{i+1}' for i in range(artist_split.shape[1])]\n",
    "\n",
    "# Merge the new columns into the DataFrame\n",
    "update_df = pd.concat([new_df, artist_split], axis=1)\n",
    "\n",
    "update_df.head()"
   ]
  },
  {
   "cell_type": "code",
   "execution_count": null,
   "id": "c1a9b4db-3142-415f-86ce-361a1352494e",
   "metadata": {},
   "outputs": [],
   "source": [
    "artist_drop_df = update_df.drop(columns=['Artist'])\n",
    "artist_drop_df.head()"
   ]
  },
  {
   "cell_type": "code",
   "execution_count": null,
   "id": "a8d609e8-e2e2-4f09-a97b-acfe24f52794",
   "metadata": {},
   "outputs": [],
   "source": [
    "# Rename 'feat1' to 'Artist'\n",
    "renamed_df = artist_drop_df.rename(columns={'feat1': 'Artist'})\n",
    "renamed_df.head()"
   ]
  },
  {
   "cell_type": "code",
   "execution_count": null,
   "id": "b9b94530-88a4-494a-83e2-dd030d3ea84d",
   "metadata": {},
   "outputs": [],
   "source": [
    "# Rename 'feat1' to 'Artist'\n",
    "renamed_df2 = renamed_df.rename(columns={'feat2': 'First Feature', 'feat3': 'Second Feature'})\n",
    "renamed_df2.head(50)"
   ]
  },
  {
   "cell_type": "code",
   "execution_count": null,
   "id": "6d3f7dfe-ba62-4c07-8fd0-7896008d0199",
   "metadata": {},
   "outputs": [],
   "source": [
    "split_cleaned_df = renamed_df2[['Year', 'Rank', 'Title', 'Artist', 'First Feature', 'Second Feature', 'Genres', 'Duration', 'Popularity', 'Spotify ID']]\n",
    "split_cleaned_df.head(202)"
   ]
  },
  {
   "cell_type": "code",
   "execution_count": null,
   "id": "f1538591-7d7f-48a9-9687-2b24a15f5e46",
   "metadata": {},
   "outputs": [],
   "source": [
    "# Export the DataFrame to a JSON file\n",
    "split_cleaned_df.to_json('split_cleaned_df.json', orient='records', lines=True)"
   ]
  },
  {
   "cell_type": "code",
   "execution_count": null,
   "id": "b16ddebd-ae41-45a7-98ed-076fa1889a55",
   "metadata": {},
   "outputs": [],
   "source": [
    "# Export the DataFrame to a csv file\n",
    "split_cleaned_df.to_csv('split_cleaned_df.csv', index=False)"
   ]
  }
 ],
 "metadata": {
  "kernelspec": {
   "display_name": "Python 3 (ipykernel)",
   "language": "python",
   "name": "python3"
  },
  "language_info": {
   "codemirror_mode": {
    "name": "ipython",
    "version": 3
   },
   "file_extension": ".py",
   "mimetype": "text/x-python",
   "name": "python",
   "nbconvert_exporter": "python",
   "pygments_lexer": "ipython3",
   "version": "3.12.4"
  }
 },
 "nbformat": 4,
 "nbformat_minor": 5
}
