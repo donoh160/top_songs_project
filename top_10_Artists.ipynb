{
 "cells": [
  {
   "cell_type": "code",
   "execution_count": 2,
   "id": "29f28a12-69e7-467f-ac05-5d5ba465f51a",
   "metadata": {},
   "outputs": [],
   "source": [
    "import pandas as pd\n"
   ]
  },
  {
   "cell_type": "code",
   "execution_count": 3,
   "id": "a6375005-7846-4cf9-b87a-9f344271b57f",
   "metadata": {},
   "outputs": [],
   "source": [
    "# Load data\n",
    "file_path = \"columns_final_df.json\"\n",
    "df = pd.read_json(file_path)"
   ]
  },
  {
   "cell_type": "code",
   "execution_count": 25,
   "id": "7de3ade7-ecd0-4106-ba61-810f0ded2913",
   "metadata": {},
   "outputs": [
    {
     "data": {
      "text/plain": [
       "Artist\n",
       "Drake            43\n",
       "Taylor Swift     36\n",
       "Rihanna          32\n",
       "Chris Brown      23\n",
       "Maroon 5         22\n",
       "Ariana Grande    22\n",
       "Post Malone      19\n",
       "Morgan Wallen    18\n",
       "The Weeknd       18\n",
       "Beyoncé          18\n",
       "Katy Perry       18\n",
       "Name: count, dtype: int64"
      ]
     },
     "execution_count": 25,
     "metadata": {},
     "output_type": "execute_result"
    }
   ],
   "source": [
    "# Find the Top 10 Artists with the most Hot 100 songs\n",
    "df['Artist'].value_counts().head(11)"
   ]
  },
  {
   "cell_type": "code",
   "execution_count": null,
   "id": "2dc1b686-9fd4-4449-bbd9-cebbb296643a",
   "metadata": {},
   "outputs": [],
   "source": []
  }
 ],
 "metadata": {
  "kernelspec": {
   "display_name": "Python 3 (ipykernel)",
   "language": "python",
   "name": "python3"
  },
  "language_info": {
   "codemirror_mode": {
    "name": "ipython",
    "version": 3
   },
   "file_extension": ".py",
   "mimetype": "text/x-python",
   "name": "python",
   "nbconvert_exporter": "python",
   "pygments_lexer": "ipython3",
   "version": "3.12.4"
  }
 },
 "nbformat": 4,
 "nbformat_minor": 5
}
